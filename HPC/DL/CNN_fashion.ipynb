{
 "cells": [
  {
   "cell_type": "code",
   "execution_count": 1,
   "metadata": {
    "executionInfo": {
     "elapsed": 11422,
     "status": "ok",
     "timestamp": 1746451847608,
     "user": {
      "displayName": "Sandesh Tidake",
      "userId": "01337354209053435828"
     },
     "user_tz": -330
    },
    "id": "qWmLDmh4o2Ag"
   },
   "outputs": [],
   "source": [
    "import tensorflow as tf\n",
    "from tensorflow.keras import layers, models\n",
    "import matplotlib.pyplot as plt\n",
    "from tensorflow.keras.datasets import fashion_mnist"
   ]
  },
  {
   "cell_type": "code",
   "execution_count": 2,
   "metadata": {
    "colab": {
     "base_uri": "https://localhost:8080/"
    },
    "executionInfo": {
     "elapsed": 1058,
     "status": "ok",
     "timestamp": 1746451851125,
     "user": {
      "displayName": "Sandesh Tidake",
      "userId": "01337354209053435828"
     },
     "user_tz": -330
    },
    "id": "wEsGypEKo_fW",
    "outputId": "07c361f6-f916-4c15-fb7b-e0aaf2ac3906"
   },
   "outputs": [
    {
     "name": "stdout",
     "output_type": "stream",
     "text": [
      "(60000, 28, 28) (60000,)\n",
      "(10000, 28, 28) (10000,)\n"
     ]
    }
   ],
   "source": [
    "\n",
    "# Split the dataset into training and testing sets\n",
    "(train_images, train_labels), (test_images, test_labels) = fashion_mnist.load_data()\n",
    "\n",
    "# Check the shapes of the datasets\n",
    "print(train_images.shape, train_labels.shape)\n",
    "print(test_images.shape, test_labels.shape)\n"
   ]
  },
  {
   "cell_type": "code",
   "execution_count": 9,
   "metadata": {},
   "outputs": [
    {
     "data": {
      "text/plain": [
       "array([9, 0, 0, ..., 3, 0, 5], dtype=uint8)"
      ]
     },
     "execution_count": 9,
     "metadata": {},
     "output_type": "execute_result"
    }
   ],
   "source": [
    "train_labels"
   ]
  },
  {
   "cell_type": "code",
   "execution_count": 4,
   "metadata": {
    "colab": {
     "base_uri": "https://localhost:8080/"
    },
    "executionInfo": {
     "elapsed": 518,
     "status": "ok",
     "timestamp": 1746451895134,
     "user": {
      "displayName": "Sandesh Tidake",
      "userId": "01337354209053435828"
     },
     "user_tz": -330
    },
    "id": "6eBESFG3pGHo",
    "outputId": "6cd32c20-ede7-4f52-f7cd-ab3cd4e1a3bc"
   },
   "outputs": [
    {
     "name": "stdout",
     "output_type": "stream",
     "text": [
      "(60000, 28, 28, 1) (10000, 28, 28, 1)\n"
     ]
    }
   ],
   "source": [
    "# Normalize the image data to [0, 1] range\n",
    "train_images, test_images = train_images / 255.0, test_images / 255.0\n",
    "\n",
    "# Reshape data to include channel dimension (1 channel for grayscale images) That last 1 is the channel dimension, needed for convolutional layers (CNNs) that expect input in the format (height, width, channels).\n",
    "\n",
    "train_images = train_images.reshape((train_images.shape[0], 28, 28, 1)) #\n",
    "test_images = test_images.reshape((test_images.shape[0], 28, 28, 1))\n",
    "\n",
    "# Check the shape of the processed images\n",
    "print(train_images.shape, test_images.shape)\n"
   ]
  },
  {
   "cell_type": "code",
   "execution_count": 5,
   "metadata": {
    "colab": {
     "base_uri": "https://localhost:8080/",
     "height": 452
    },
    "executionInfo": {
     "elapsed": 259,
     "status": "ok",
     "timestamp": 1746452039141,
     "user": {
      "displayName": "Sandesh Tidake",
      "userId": "01337354209053435828"
     },
     "user_tz": -330
    },
    "id": "fpRPPrOmpQ_u",
    "outputId": "0bced3b1-fa95-4da2-b486-89c7458d022a"
   },
   "outputs": [
    {
     "name": "stdout",
     "output_type": "stream",
     "text": [
      "Model: \"sequential_1\"\n",
      "_________________________________________________________________\n",
      " Layer (type)                Output Shape              Param #   \n",
      "=================================================================\n"
     ]
    },
    {
     "name": "stdout",
     "output_type": "stream",
     "text": [
      " conv2d_3 (Conv2D)           (None, 26, 26, 32)        320       \n",
      "                                                                 \n",
      " max_pooling2d_2 (MaxPooling  (None, 13, 13, 32)       0         \n",
      " 2D)                                                             \n",
      "                                                                 \n",
      " conv2d_4 (Conv2D)           (None, 11, 11, 64)        18496     \n",
      "                                                                 \n",
      " max_pooling2d_3 (MaxPooling  (None, 5, 5, 64)         0         \n",
      " 2D)                                                             \n",
      "                                                                 \n",
      " conv2d_5 (Conv2D)           (None, 3, 3, 64)          36928     \n",
      "                                                                 \n",
      " flatten_1 (Flatten)         (None, 576)               0         \n",
      "                                                                 \n",
      " dense_2 (Dense)             (None, 64)                36928     \n",
      "                                                                 \n",
      " dense_3 (Dense)             (None, 10)                650       \n",
      "                                                                 \n",
      "=================================================================\n",
      "Total params: 93,322\n",
      "Trainable params: 93,322\n",
      "Non-trainable params: 0\n",
      "_________________________________________________________________\n"
     ]
    }
   ],
   "source": [
    "\n",
    "# Build a simple CNN model\n",
    "model = models.Sequential([\n",
    "    layers.Conv2D(32, (3, 3), activation='relu', input_shape=(28, 28, 1)), #Conv2D: Applies 32 filters (feature detectors), each of size 3×3. Applies ReLU (Rectified Linear Unit) to introduce non-linearity. specifies input image shape (height=28, width=28, channels=1 for grayscale).\n",
    "    layers.MaxPooling2D((2, 2)),#Downsamples the output from the previous layer by selecting the maximum value in each 2×2 patch.\n",
    "\n",
    "    layers.Conv2D(64, (3, 3), activation='relu'),\n",
    "    layers.MaxPooling2D((2, 2)),\n",
    "\n",
    "    layers.Conv2D(64, (3, 3), activation='relu'),\n",
    "\n",
    "    layers.Flatten(), #convert 2D output from the previous layer into a 1D vector so it can be used in a Dense layer\n",
    "    layers.Dense(64, activation='relu'),#Fully connected layer with 64 neurons. activation='relu': Helps the network learn complex patterns.\n",
    "    layers.Dense(10, activation='softmax')  # 10 classes for clothing items\n",
    "])\n",
    "\n",
    "model.summary()\n"
   ]
  },
  {
   "cell_type": "code",
   "execution_count": null,
   "metadata": {
    "colab": {
     "base_uri": "https://localhost:8080/"
    },
    "executionInfo": {
     "elapsed": 399800,
     "status": "ok",
     "timestamp": 1746452694984,
     "user": {
      "displayName": "Sandesh Tidake",
      "userId": "01337354209053435828"
     },
     "user_tz": -330
    },
    "id": "fWz9_ne9p0M_",
    "outputId": "11627af8-e809-4b4d-becf-06a6cd66249e"
   },
   "outputs": [
    {
     "name": "stdout",
     "output_type": "stream",
     "text": [
      "Epoch 1/5\n",
      "1875/1875 [==============================] - 27s 14ms/step - loss: 0.5046 - accuracy: 0.8162 - val_loss: 0.3667 - val_accuracy: 0.8666\n",
      "Epoch 2/5\n",
      "1875/1875 [==============================] - 27s 14ms/step - loss: 0.3198 - accuracy: 0.8832 - val_loss: 0.3256 - val_accuracy: 0.8801\n",
      "Epoch 3/5\n",
      "1875/1875 [==============================] - 25s 13ms/step - loss: 0.2744 - accuracy: 0.8989 - val_loss: 0.2887 - val_accuracy: 0.8946\n",
      "Epoch 4/5\n",
      "1875/1875 [==============================] - 26s 14ms/step - loss: 0.2439 - accuracy: 0.9111 - val_loss: 0.3125 - val_accuracy: 0.8897\n",
      "Epoch 5/5\n",
      "1875/1875 [==============================] - 25s 14ms/step - loss: 0.2209 - accuracy: 0.9175 - val_loss: 0.2621 - val_accuracy: 0.9031\n"
     ]
    }
   ],
   "source": [
    "# Compile the model with an Adam optimizer and categorical crossentropy loss\n",
    "from tensorflow.keras.optimizers import Adam\n",
    "model.compile(\n",
    "    optimizer=Adam(learning_rate=0.001), #controls how much the model's weights change with respect to the loss.\n",
    "    loss='sparse_categorical_crossentropy',\n",
    "    metrics=['accuracy']\n",
    ")\n",
    "\n"
   ]
  },
  {
   "cell_type": "code",
   "execution_count": 8,
   "metadata": {},
   "outputs": [
    {
     "name": "stdout",
     "output_type": "stream",
     "text": [
      "Epoch 1/5\n",
      "1875/1875 [==============================] - 26s 14ms/step - loss: 0.2009 - accuracy: 0.9245 - val_loss: 0.3051 - val_accuracy: 0.8934\n",
      "Epoch 2/5\n",
      "1875/1875 [==============================] - 27s 14ms/step - loss: 0.1847 - accuracy: 0.9307 - val_loss: 0.2642 - val_accuracy: 0.9062\n",
      "Epoch 3/5\n",
      "1875/1875 [==============================] - 26s 14ms/step - loss: 0.1698 - accuracy: 0.9365 - val_loss: 0.2631 - val_accuracy: 0.9099\n",
      "Epoch 4/5\n",
      "1875/1875 [==============================] - 26s 14ms/step - loss: 0.1558 - accuracy: 0.9421 - val_loss: 0.2757 - val_accuracy: 0.9066\n",
      "Epoch 5/5\n",
      "1875/1875 [==============================] - 27s 14ms/step - loss: 0.1446 - accuracy: 0.9455 - val_loss: 0.2678 - val_accuracy: 0.9113\n"
     ]
    }
   ],
   "source": [
    "# Train the model on the training data\n",
    "history = model.fit(train_images, \n",
    "                    train_labels, \n",
    "                    epochs=5,\n",
    "                    validation_data=(test_images, test_labels)\n",
    "                    )\n"
   ]
  },
  {
   "cell_type": "code",
   "execution_count": 6,
   "metadata": {
    "colab": {
     "base_uri": "https://localhost:8080/"
    },
    "executionInfo": {
     "elapsed": 5270,
     "status": "ok",
     "timestamp": 1746452726611,
     "user": {
      "displayName": "Sandesh Tidake",
      "userId": "01337354209053435828"
     },
     "user_tz": -330
    },
    "id": "vTj5AVxqqyyY",
    "outputId": "ff9e27be-9282-422d-dc02-1217daabc14b"
   },
   "outputs": [
    {
     "name": "stdout",
     "output_type": "stream",
     "text": [
      "313/313 [==============================] - 1s 4ms/step - loss: 0.2596 - accuracy: 0.9053\n",
      "Test accuracy: 90.53%\n"
     ]
    }
   ],
   "source": [
    "# Evaluate the model on the test set\n",
    "test_loss, test_acc = model.evaluate(test_images, test_labels)\n",
    "\n",
    "print(f\"Test accuracy: {test_acc * 100:.2f}%\")"
   ]
  },
  {
   "cell_type": "code",
   "execution_count": 11,
   "metadata": {
    "colab": {
     "base_uri": "https://localhost:8080/"
    },
    "executionInfo": {
     "elapsed": 2980,
     "status": "ok",
     "timestamp": 1746453305402,
     "user": {
      "displayName": "Sandesh Tidake",
      "userId": "01337354209053435828"
     },
     "user_tz": -330
    },
    "id": "YXceLtPzum5P",
    "outputId": "c90c3edd-211b-4833-9bc5-3ddd2e8fe190"
   },
   "outputs": [
    {
     "name": "stdout",
     "output_type": "stream",
     "text": [
      "313/313 [==============================] - 2s 6ms/step\n"
     ]
    }
   ],
   "source": [
    "predictions = model.predict(test_images)"
   ]
  },
  {
   "cell_type": "code",
   "execution_count": null,
   "metadata": {
    "colab": {
     "base_uri": "https://localhost:8080/",
     "height": 388
    },
    "executionInfo": {
     "elapsed": 76,
     "status": "ok",
     "timestamp": 1746453322947,
     "user": {
      "displayName": "Sandesh Tidake",
      "userId": "01337354209053435828"
     },
     "user_tz": -330
    },
    "id": "nqhTbynvsn5A",
    "outputId": "6f185c21-d86f-4ff1-929a-32da6b83099a"
   },
   "outputs": [
    {
     "data": {
      "image/png": "[encoded data removed]",
      "text/plain": [
       "<Figure size 400x400 with 1 Axes>"
      ]
     },
     "metadata": {},
     "output_type": "display_data"
    }
   ],
   "source": [
    "class_names = ['T-shirt/top', 'Trouser', 'Pullover', 'Dress', 'Coat',\n",
    "               'Sandal', 'Shirt', 'Sneaker', 'Bag', 'Ankle boot']\n",
    "\n",
    "plt.figure(figsize=(4, 4))\n",
    "plt.imshow(test_images[5].reshape(28, 28), cmap='gray')\n",
    "plt.title(f\"Predicted: {class_names[predictions[5].argmax()]}\\nActual: {class_names[test_labels[5]]}\")\n",
    "plt.axis('off')\n",
    "plt.show()\n"
   ]
  },
  {
   "cell_type": "code",
   "execution_count": null,
   "metadata": {},
   "outputs": [],
   "source": []
  }
 ],
 "metadata": {
  "colab": {
   "authorship_tag": "ABX9TyPPeGKya1nMNYxVLvYxVP4e",
   "provenance": []
  },
  "kernelspec": {
   "display_name": "Python 3",
   "name": "python3"
  },
  "language_info": {
   "codemirror_mode": {
    "name": "ipython",
    "version": 3
   },
   "file_extension": ".py",
   "mimetype": "text/x-python",
   "name": "python",
   "nbconvert_exporter": "python",
   "pygments_lexer": "ipython3",
   "version": "3.9.13"
  }
 },
 "nbformat": 4,
 "nbformat_minor": 0
}
