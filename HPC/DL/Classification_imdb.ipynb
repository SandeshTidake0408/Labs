{
 "cells": [
  {
   "cell_type": "code",
   "execution_count": null,
   "id": "ba1fd97b-9792-4ecd-86d2-975d22a42bc5",
   "metadata": {},
   "outputs": [],
   "source": [
    "import numpy as np\n",
    "import matplotlib.pyplot as plt\n",
    "import seaborn as sns\n",
    "from tensorflow.keras.datasets import imdb # preprocessed set of 50,000 movie reviews labeled as positive (1) or negative (0).\n",
    "from tensorflow.keras import models, layers, optimizers, losses, Input\n",
    "from sklearn.metrics import classification_report, confusion_matrix, accuracy_score"
   ]
  },
  {
   "cell_type": "code",
   "execution_count": 4,
   "id": "9f61a565-53de-46fc-84d1-b5a701fe82b4",
   "metadata": {},
   "outputs": [
    {
     "name": "stdout",
     "output_type": "stream",
     "text": [
      "Downloading data from https://storage.googleapis.com/tensorflow/tf-keras-datasets/imdb.npz\n",
      "17464789/17464789 [==============================] - 3s 0us/step\n"
     ]
    }
   ],
   "source": [
    "(train_data, train_labels), (test_data, test_labels) = imdb.load_data(num_words=10000)"
   ]
  },
  {
   "cell_type": "code",
   "execution_count": 5,
   "id": "29a2ffac-8040-4130-8cca-17da1b8f10c5",
   "metadata": {},
   "outputs": [
    {
     "name": "stdout",
     "output_type": "stream",
     "text": [
      "\n",
      "Sample Decoded Review:\n",
      " ? this film was just brilliant casting location scenery story direction everyone's really suited the part they played and you could just imagine being there robert ? is an amazing actor and now the same being director ? father came from the same scottish island as myself so i loved the fact there was a real connection with this film the witty remarks throughout the film were great it was just brilliant so much that i bought the film as soon as it was released for ? and would recommend it to everyone to watch and the fly fishing was amazing really cried at the end it was so sad and you know what they say if you cry at a film it must have been good and this definitely was also ? to the two little boy's that played the ? of norman and paul they were just brilliant children are often left out of the ? list i think because the stars that play them all grown up are such a big profile for the whole film but these children are amazing and should be praised for what they have done don't you think the whole story was so lovely because it was true and was someone's life after all that was shared with us all\n"
     ]
    }
   ],
   "source": [
    "word_index = imdb.get_word_index()\n",
    "reverse_word_index = {value: key for (key, value) in word_index.items()}\n",
    "decoded_review = ' '.join([reverse_word_index.get(i - 3, '?') for i in train_data[0]])\n",
    "print(\"\\nSample Decoded Review:\\n\", decoded_review)"
   ]
  },
  {
   "cell_type": "code",
   "execution_count": 17,
   "id": "6a4cd2b0-1e0a-4e5c-b7d7-0c806ba2070c",
   "metadata": {},
   "outputs": [],
   "source": [
    "def vectorize_sequences(sequences, dimension=10000):\n",
    "    results = np.zeros((len(sequences), dimension))\n",
    "    for i, sequence in enumerate(sequences):\n",
    "        results[i, sequence] = 1\n",
    "    return results"
   ]
  },
  {
   "cell_type": "code",
   "execution_count": 18,
   "id": "8876825e-7791-4fcb-b417-7a5fca34ff16",
   "metadata": {},
   "outputs": [],
   "source": [
    "X_train = vectorize_sequences(train_data)\n",
    "X_test = vectorize_sequences(test_data)\n",
    "y_train = np.asarray(train_labels).astype('float32')\n",
    "y_test = np.asarray(test_labels).astype('float32')"
   ]
  },
  {
   "cell_type": "code",
   "execution_count": 21,
   "id": "b803d8fa-e41d-49db-bbe0-5168a82495c8",
   "metadata": {},
   "outputs": [
    {
     "name": "stdout",
     "output_type": "stream",
     "text": [
      "Model: \"sequential_3\"\n",
      "_________________________________________________________________\n",
      " Layer (type)                Output Shape              Param #   \n",
      "=================================================================\n",
      " dense_15 (Dense)            (None, 16)                160016    \n",
      "                                                                 \n",
      " dense_16 (Dense)            (None, 16)                272       \n",
      "                                                                 \n",
      " dense_17 (Dense)            (None, 8)                 136       \n",
      "                                                                 \n",
      " dense_18 (Dense)            (None, 4)                 36        \n",
      "                                                                 \n",
      " dense_19 (Dense)            (None, 1)                 5         \n",
      "                                                                 \n",
      "=================================================================\n",
      "Total params: 160,465\n",
      "Trainable params: 160,465\n",
      "Non-trainable params: 0\n",
      "_________________________________________________________________\n"
     ]
    }
   ],
   "source": [
    "model = models.Sequential([\n",
    "    Input(shape=(10000,)),\n",
    "    layers.Dense(16, activation='relu'),\n",
    "    layers.Dense(16, activation='relu'),\n",
    "    layers.Dense(8, activation='relu'),\n",
    "    layers.Dense(4, activation='relu'),\n",
    "    layers.Dense(1, activation='sigmoid')\n",
    "])\n",
    "\n",
    "model.summary()"
   ]
  },
  {
   "cell_type": "code",
   "execution_count": null,
   "id": "4670da6b-6bb9-4b7d-96df-e661aef87885",
   "metadata": {},
   "outputs": [],
   "source": [
    "from tensorflow.keras.optimizers import Adam\n",
    "model.compile(\n",
    "    optimizer=Adam(learning_rate=0.001), #controls how much the model's weights change with respect to the loss.\n",
    "    loss='binary_crossentropy',#Measures how well the model is performing, and gives feedback\n",
    "    metrics=['accuracy']\n",
    ")"
   ]
  },
  {
   "cell_type": "code",
   "execution_count": 25,
   "id": "2cb23fec-7209-484c-84e2-04bdea4a04be",
   "metadata": {},
   "outputs": [
    {
     "name": "stdout",
     "output_type": "stream",
     "text": [
      "Epoch 1/25\n",
      "40/40 [==============================] - 1s 16ms/step - loss: 0.5652 - accuracy: 0.7714 - val_loss: 0.3873 - val_accuracy: 0.8682\n",
      "Epoch 2/25\n",
      "40/40 [==============================] - 0s 10ms/step - loss: 0.2836 - accuracy: 0.9012 - val_loss: 0.2812 - val_accuracy: 0.8894\n",
      "Epoch 3/25\n",
      "40/40 [==============================] - 0s 10ms/step - loss: 0.1858 - accuracy: 0.9352 - val_loss: 0.2818 - val_accuracy: 0.8902\n",
      "Epoch 4/25\n",
      "40/40 [==============================] - 0s 10ms/step - loss: 0.1390 - accuracy: 0.9528 - val_loss: 0.3065 - val_accuracy: 0.8902\n",
      "Epoch 5/25\n",
      "40/40 [==============================] - 0s 10ms/step - loss: 0.1063 - accuracy: 0.9652 - val_loss: 0.3377 - val_accuracy: 0.8864\n",
      "Epoch 6/25\n",
      "40/40 [==============================] - 0s 11ms/step - loss: 0.0794 - accuracy: 0.9778 - val_loss: 0.3827 - val_accuracy: 0.8826\n",
      "Epoch 7/25\n",
      "40/40 [==============================] - 0s 10ms/step - loss: 0.0610 - accuracy: 0.9851 - val_loss: 0.4347 - val_accuracy: 0.8750\n",
      "Epoch 8/25\n",
      "40/40 [==============================] - 0s 10ms/step - loss: 0.0454 - accuracy: 0.9905 - val_loss: 0.4922 - val_accuracy: 0.8744\n",
      "Epoch 9/25\n",
      "40/40 [==============================] - 0s 10ms/step - loss: 0.0333 - accuracy: 0.9943 - val_loss: 0.5415 - val_accuracy: 0.8690\n",
      "Epoch 10/25\n",
      "40/40 [==============================] - 0s 10ms/step - loss: 0.0235 - accuracy: 0.9966 - val_loss: 0.6035 - val_accuracy: 0.8672\n",
      "Epoch 11/25\n",
      "40/40 [==============================] - 0s 10ms/step - loss: 0.0169 - accuracy: 0.9984 - val_loss: 0.6551 - val_accuracy: 0.8664\n",
      "Epoch 12/25\n",
      "40/40 [==============================] - 0s 10ms/step - loss: 0.0126 - accuracy: 0.9989 - val_loss: 0.6892 - val_accuracy: 0.8686\n",
      "Epoch 13/25\n",
      "40/40 [==============================] - 0s 10ms/step - loss: 0.0096 - accuracy: 0.9992 - val_loss: 0.7268 - val_accuracy: 0.8656\n",
      "Epoch 14/25\n",
      "40/40 [==============================] - 0s 10ms/step - loss: 0.0077 - accuracy: 0.9992 - val_loss: 0.7648 - val_accuracy: 0.8644\n",
      "Epoch 15/25\n",
      "40/40 [==============================] - 0s 10ms/step - loss: 0.0061 - accuracy: 0.9993 - val_loss: 0.7964 - val_accuracy: 0.8658\n",
      "Epoch 16/25\n",
      "40/40 [==============================] - 0s 10ms/step - loss: 0.0050 - accuracy: 0.9994 - val_loss: 0.8253 - val_accuracy: 0.8646\n",
      "Epoch 17/25\n",
      "40/40 [==============================] - 0s 10ms/step - loss: 0.0041 - accuracy: 0.9995 - val_loss: 0.8511 - val_accuracy: 0.8662\n",
      "Epoch 18/25\n",
      "40/40 [==============================] - 0s 10ms/step - loss: 0.0035 - accuracy: 0.9995 - val_loss: 0.8740 - val_accuracy: 0.8664\n",
      "Epoch 19/25\n",
      "40/40 [==============================] - 0s 10ms/step - loss: 0.0031 - accuracy: 0.9995 - val_loss: 0.8983 - val_accuracy: 0.8658\n",
      "Epoch 20/25\n",
      "40/40 [==============================] - 0s 10ms/step - loss: 0.0026 - accuracy: 0.9997 - val_loss: 0.9269 - val_accuracy: 0.8656\n",
      "Epoch 21/25\n",
      "40/40 [==============================] - 0s 10ms/step - loss: 0.0020 - accuracy: 0.9998 - val_loss: 0.9413 - val_accuracy: 0.8658\n",
      "Epoch 22/25\n",
      "40/40 [==============================] - 0s 10ms/step - loss: 0.0018 - accuracy: 0.9998 - val_loss: 0.9628 - val_accuracy: 0.8656\n",
      "Epoch 23/25\n",
      "40/40 [==============================] - 0s 11ms/step - loss: 0.0016 - accuracy: 0.9998 - val_loss: 0.9814 - val_accuracy: 0.8660\n",
      "Epoch 24/25\n",
      "40/40 [==============================] - 0s 10ms/step - loss: 0.0014 - accuracy: 0.9998 - val_loss: 0.9963 - val_accuracy: 0.8668\n",
      "Epoch 25/25\n",
      "40/40 [==============================] - 0s 9ms/step - loss: 0.0011 - accuracy: 0.9998 - val_loss: 1.0177 - val_accuracy: 0.8658\n"
     ]
    }
   ],
   "source": [
    "history = model.fit(\n",
    "    X_train,\n",
    "    y_train,\n",
    "    epochs=25, # Number of full passes over the training data\n",
    "    batch_size=500,  # Process 500 samples at a time before updating weights\n",
    "    validation_split=0.2,  # Automatically split 20% of the training data for validation (i.e., model will train on 80% and evaluate on 20% during training)\n",
    "    shuffle=True  # Randomly shuffle the data before each epoch to prevent learning order-based patterns\n",
    ")\n"
   ]
  },
  {
   "cell_type": "code",
   "execution_count": null,
   "id": "6d69648b-81cf-46c7-87ae-35505b4cbac1",
   "metadata": {},
   "outputs": [
    {
     "name": "stdout",
     "output_type": "stream",
     "text": [
      "782/782 [==============================] - 1s 1ms/step\n"
     ]
    }
   ],
   "source": [
    "pred_probs = model.predict(X_test)\n",
    "y_pred = (pred_probs > 0.5).astype(\"int32\").flatten() #convert [.55 ,.83. 02. .94]  to [1. 1. 0.1]"
   ]
  },
  {
   "cell_type": "code",
   "execution_count": 32,
   "id": "0b1ab11a-41e9-4503-8d30-a6f749ef8320",
   "metadata": {},
   "outputs": [
    {
     "name": "stdout",
     "output_type": "stream",
     "text": [
      "Accuracy: 0.85196\n"
     ]
    }
   ],
   "source": [
    "print(\"Accuracy:\", accuracy_score(y_test, y_pred))\n"
   ]
  },
  {
   "cell_type": "code",
   "execution_count": 43,
   "id": "9162f30a-2cc9-48fb-8215-bc5f117930c7",
   "metadata": {},
   "outputs": [
    {
     "data": {
      "image/png": "[encoded data removed]",
      "text/plain": [
       "<Figure size 500x400 with 1 Axes>"
      ]
     },
     "metadata": {},
     "output_type": "display_data"
    }
   ],
   "source": [
    "\n",
    "\n",
    "# Plot training & validation accuracy values\n",
    "plt.figure(figsize=(5, 4))\n",
    "plt.plot(history.history['accuracy'], label='Training Accuracy')\n",
    "plt.plot(history.history['val_accuracy'], label='Validation Accuracy')\n",
    "plt.title('Model Accuracy Over Epochs')\n",
    "plt.xlabel('Epoch')\n",
    "plt.ylabel('Accuracy')\n",
    "plt.legend()\n",
    "plt.grid(True)\n",
    "plt.show()\n"
   ]
  },
  {
   "cell_type": "code",
   "execution_count": null,
   "id": "4ab5b5df-9788-40a2-b419-1519e4c53410",
   "metadata": {},
   "outputs": [],
   "source": [
    "# Shows how well the model has learned from the data it was trained on.\n",
    "\n",
    "# Tells you how well your model generalizes to new, unseen data."
   ]
  },
  {
   "cell_type": "code",
   "execution_count": null,
   "id": "fc4438f2",
   "metadata": {},
   "outputs": [],
   "source": []
  }
 ],
 "metadata": {
  "kernelspec": {
   "display_name": "Python 3",
   "language": "python",
   "name": "python3"
  },
  "language_info": {
   "codemirror_mode": {
    "name": "ipython",
    "version": 3
   },
   "file_extension": ".py",
   "mimetype": "text/x-python",
   "name": "python",
   "nbconvert_exporter": "python",
   "pygments_lexer": "ipython3",
   "version": "3.9.13"
  }
 },
 "nbformat": 4,
 "nbformat_minor": 5
}
