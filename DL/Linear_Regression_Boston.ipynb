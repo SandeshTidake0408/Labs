{
 "cells": [
  {
   "cell_type": "code",
   "execution_count": null,
   "metadata": {
    "colab": {
     "base_uri": "https://localhost:8080/"
    },
    "collapsed": true,
    "executionInfo": {
     "elapsed": 4249,
     "status": "ok",
     "timestamp": 1746181423042,
     "user": {
      "displayName": "Sandesh Tidake",
      "userId": "01337354209053435828"
     },
     "user_tz": -330
    },
    "id": "vEND2tUmP03v",
    "outputId": "f50722aa-94a3-4eb4-91eb-b186ee656f51"
   },
   "outputs": [],
   "source": [
    "# Install TensorFlow and Scikit-learn\n",
    "%pip install tensorflow scikit-learn numpy pandas matplotlib"
   ]
  },
  {
   "cell_type": "code",
   "execution_count": 1,
   "metadata": {
    "executionInfo": {
     "elapsed": 9,
     "status": "ok",
     "timestamp": 1746181423050,
     "user": {
      "displayName": "Sandesh Tidake",
      "userId": "01337354209053435828"
     },
     "user_tz": -330
    },
    "id": "JsGQdA3tQWy4"
   },
   "outputs": [],
   "source": [
    "# Importing required libraries\n",
    "import numpy as np\n",
    "import pandas as pd\n",
    "from sklearn.preprocessing import StandardScaler\n",
    "from sklearn.model_selection import train_test_split\n",
    "from sklearn.metrics import mean_squared_error\n",
    "import matplotlib.pyplot as plt"
   ]
  },
  {
   "cell_type": "code",
   "execution_count": 3,
   "metadata": {
    "colab": {
     "base_uri": "https://localhost:8080/",
     "height": 206
    },
    "executionInfo": {
     "elapsed": 79,
     "status": "ok",
     "timestamp": 1746181423136,
     "user": {
      "displayName": "Sandesh Tidake",
      "userId": "01337354209053435828"
     },
     "user_tz": -330
    },
    "id": "--Yk4qSKS0-V",
    "outputId": "fa63cd80-71fb-4b62-9111-7481085f6a2e"
   },
   "outputs": [
    {
     "data": {
      "text/html": [
       "<div>\n",
       "<style scoped>\n",
       "    .dataframe tbody tr th:only-of-type {\n",
       "        vertical-align: middle;\n",
       "    }\n",
       "\n",
       "    .dataframe tbody tr th {\n",
       "        vertical-align: top;\n",
       "    }\n",
       "\n",
       "    .dataframe thead th {\n",
       "        text-align: right;\n",
       "    }\n",
       "</style>\n",
       "<table border=\"1\" class=\"dataframe\">\n",
       "  <thead>\n",
       "    <tr style=\"text-align: right;\">\n",
       "      <th></th>\n",
       "      <th>CRIM</th>\n",
       "      <th>ZN</th>\n",
       "      <th>INDUS</th>\n",
       "      <th>CHAS</th>\n",
       "      <th>NOX</th>\n",
       "      <th>RM</th>\n",
       "      <th>AGE</th>\n",
       "      <th>DIS</th>\n",
       "      <th>RAD</th>\n",
       "      <th>TAX</th>\n",
       "      <th>PTRATIO</th>\n",
       "      <th>B</th>\n",
       "      <th>LSTAT</th>\n",
       "      <th>MEDV</th>\n",
       "    </tr>\n",
       "  </thead>\n",
       "  <tbody>\n",
       "    <tr>\n",
       "      <th>0</th>\n",
       "      <td>0.00632</td>\n",
       "      <td>18.0</td>\n",
       "      <td>2.31</td>\n",
       "      <td>0</td>\n",
       "      <td>0.538</td>\n",
       "      <td>6.575</td>\n",
       "      <td>65.2</td>\n",
       "      <td>4.0900</td>\n",
       "      <td>1</td>\n",
       "      <td>296.0</td>\n",
       "      <td>15.3</td>\n",
       "      <td>396.90</td>\n",
       "      <td>4.98</td>\n",
       "      <td>24.0</td>\n",
       "    </tr>\n",
       "    <tr>\n",
       "      <th>1</th>\n",
       "      <td>0.02731</td>\n",
       "      <td>0.0</td>\n",
       "      <td>7.07</td>\n",
       "      <td>0</td>\n",
       "      <td>0.469</td>\n",
       "      <td>6.421</td>\n",
       "      <td>78.9</td>\n",
       "      <td>4.9671</td>\n",
       "      <td>2</td>\n",
       "      <td>242.0</td>\n",
       "      <td>17.8</td>\n",
       "      <td>396.90</td>\n",
       "      <td>9.14</td>\n",
       "      <td>21.6</td>\n",
       "    </tr>\n",
       "    <tr>\n",
       "      <th>2</th>\n",
       "      <td>0.02729</td>\n",
       "      <td>0.0</td>\n",
       "      <td>7.07</td>\n",
       "      <td>0</td>\n",
       "      <td>0.469</td>\n",
       "      <td>7.185</td>\n",
       "      <td>61.1</td>\n",
       "      <td>4.9671</td>\n",
       "      <td>2</td>\n",
       "      <td>242.0</td>\n",
       "      <td>17.8</td>\n",
       "      <td>392.83</td>\n",
       "      <td>4.03</td>\n",
       "      <td>34.7</td>\n",
       "    </tr>\n",
       "    <tr>\n",
       "      <th>3</th>\n",
       "      <td>0.03237</td>\n",
       "      <td>0.0</td>\n",
       "      <td>2.18</td>\n",
       "      <td>0</td>\n",
       "      <td>0.458</td>\n",
       "      <td>6.998</td>\n",
       "      <td>45.8</td>\n",
       "      <td>6.0622</td>\n",
       "      <td>3</td>\n",
       "      <td>222.0</td>\n",
       "      <td>18.7</td>\n",
       "      <td>394.63</td>\n",
       "      <td>2.94</td>\n",
       "      <td>33.4</td>\n",
       "    </tr>\n",
       "    <tr>\n",
       "      <th>4</th>\n",
       "      <td>0.06905</td>\n",
       "      <td>0.0</td>\n",
       "      <td>2.18</td>\n",
       "      <td>0</td>\n",
       "      <td>0.458</td>\n",
       "      <td>7.147</td>\n",
       "      <td>54.2</td>\n",
       "      <td>6.0622</td>\n",
       "      <td>3</td>\n",
       "      <td>222.0</td>\n",
       "      <td>18.7</td>\n",
       "      <td>396.90</td>\n",
       "      <td>5.33</td>\n",
       "      <td>36.2</td>\n",
       "    </tr>\n",
       "  </tbody>\n",
       "</table>\n",
       "</div>"
      ],
      "text/plain": [
       "      CRIM    ZN  INDUS  CHAS    NOX     RM   AGE     DIS  RAD    TAX  \\\n",
       "0  0.00632  18.0   2.31     0  0.538  6.575  65.2  4.0900    1  296.0   \n",
       "1  0.02731   0.0   7.07     0  0.469  6.421  78.9  4.9671    2  242.0   \n",
       "2  0.02729   0.0   7.07     0  0.469  7.185  61.1  4.9671    2  242.0   \n",
       "3  0.03237   0.0   2.18     0  0.458  6.998  45.8  6.0622    3  222.0   \n",
       "4  0.06905   0.0   2.18     0  0.458  7.147  54.2  6.0622    3  222.0   \n",
       "\n",
       "   PTRATIO       B  LSTAT  MEDV  \n",
       "0     15.3  396.90   4.98  24.0  \n",
       "1     17.8  396.90   9.14  21.6  \n",
       "2     17.8  392.83   4.03  34.7  \n",
       "3     18.7  394.63   2.94  33.4  \n",
       "4     18.7  396.90   5.33  36.2  "
      ]
     },
     "execution_count": 3,
     "metadata": {},
     "output_type": "execute_result"
    }
   ],
   "source": [
    "file_path = r'C:\\Users\\sande\\Desktop\\Labs\\DL\\Boston-house-price-data.csv'\n",
    "\n",
    "# Load the dataset using pandas\n",
    "df = pd.read_csv(file_path)\n",
    "\n",
    "df.head()\n",
    "\n",
    "# [\n",
    "#     'CRIM',      # per capita crime rate by town\n",
    "#     'ZN',        # proportion of residential land zoned for lots over 25,000 sq.ft.\n",
    "#     'INDUS',     # proportion of non-retail business acres per town\n",
    "#     'CHAS',      # Charles River dummy variable (= 1 if tract bounds river; 0 otherwise)\n",
    "#     'NOX',       # nitric oxides concentration (parts per 10 million)\n",
    "#     'RM',        # average number of rooms per dwelling\n",
    "#     'AGE',       # proportion of owner-occupied units built prior to 1940\n",
    "#     'DIS',       # weighted distances to five Boston employment centres\n",
    "#     'RAD',       # index of accessibility to radial highways\n",
    "#     'TAX',       # full-value property-tax rate per $10,000\n",
    "#     'PTRATIO',   # pupil-teacher ratio by town\n",
    "#     'B',         # 1000(Bk - 0.63)^2 where Bk is the proportion of Black residents\n",
    "#     'LSTAT',     # % lower status of the population\n",
    "#     'MEDV',     # Median value of owner-occupied homes in $1,000s (this is the target variable you're trying to predict).\n",
    "# ]\n"
   ]
  },
  {
   "cell_type": "code",
   "execution_count": 4,
   "metadata": {
    "colab": {
     "base_uri": "https://localhost:8080/"
    },
    "executionInfo": {
     "elapsed": 14,
     "status": "ok",
     "timestamp": 1746181423157,
     "user": {
      "displayName": "Sandesh Tidake",
      "userId": "01337354209053435828"
     },
     "user_tz": -330
    },
    "id": "3LBQfo2XWPUa",
    "outputId": "e4b00898-293d-40fc-85ba-e75a1b845198"
   },
   "outputs": [
    {
     "name": "stdout",
     "output_type": "stream",
     "text": [
      "CRIM       0\n",
      "ZN         0\n",
      "INDUS      0\n",
      "CHAS       0\n",
      "NOX        0\n",
      "RM         0\n",
      "AGE        0\n",
      "DIS        0\n",
      "RAD        0\n",
      "TAX        0\n",
      "PTRATIO    0\n",
      "B          0\n",
      "LSTAT      0\n",
      "MEDV       0\n",
      "dtype: int64\n"
     ]
    }
   ],
   "source": [
    "# Check for missing values in the dataset\n",
    "print(df.isnull().sum())"
   ]
  },
  {
   "cell_type": "code",
   "execution_count": 5,
   "metadata": {
    "executionInfo": {
     "elapsed": 109,
     "status": "ok",
     "timestamp": 1746181423269,
     "user": {
      "displayName": "Sandesh Tidake",
      "userId": "01337354209053435828"
     },
     "user_tz": -330
    },
    "id": "LskyRNJjaf7G"
   },
   "outputs": [],
   "source": [
    "# Define the features (X) and the target (y)\n",
    "X = df.drop(columns=['MEDV'])  # Dropping 'index' and 'MEDV' as it's the target variable\n",
    "y = df['MEDV']  # Target variable (House Price)"
   ]
  },
  {
   "cell_type": "code",
   "execution_count": 6,
   "metadata": {
    "colab": {
     "base_uri": "https://localhost:8080/",
     "height": 226
    },
    "executionInfo": {
     "elapsed": 139,
     "status": "ok",
     "timestamp": 1746181423311,
     "user": {
      "displayName": "Sandesh Tidake",
      "userId": "01337354209053435828"
     },
     "user_tz": -330
    },
    "id": "uQW77p9qayaZ",
    "outputId": "dc26d789-6c96-4cc6-b815-d0e705553623"
   },
   "outputs": [
    {
     "data": {
      "text/html": [
       "<div>\n",
       "<style scoped>\n",
       "    .dataframe tbody tr th:only-of-type {\n",
       "        vertical-align: middle;\n",
       "    }\n",
       "\n",
       "    .dataframe tbody tr th {\n",
       "        vertical-align: top;\n",
       "    }\n",
       "\n",
       "    .dataframe thead th {\n",
       "        text-align: right;\n",
       "    }\n",
       "</style>\n",
       "<table border=\"1\" class=\"dataframe\">\n",
       "  <thead>\n",
       "    <tr style=\"text-align: right;\">\n",
       "      <th></th>\n",
       "      <th>CRIM</th>\n",
       "      <th>ZN</th>\n",
       "      <th>INDUS</th>\n",
       "      <th>CHAS</th>\n",
       "      <th>NOX</th>\n",
       "      <th>RM</th>\n",
       "      <th>AGE</th>\n",
       "      <th>DIS</th>\n",
       "      <th>RAD</th>\n",
       "      <th>TAX</th>\n",
       "      <th>PTRATIO</th>\n",
       "      <th>B</th>\n",
       "      <th>LSTAT</th>\n",
       "    </tr>\n",
       "  </thead>\n",
       "  <tbody>\n",
       "    <tr>\n",
       "      <th>0</th>\n",
       "      <td>-0.419782</td>\n",
       "      <td>0.284830</td>\n",
       "      <td>-1.287909</td>\n",
       "      <td>-0.272599</td>\n",
       "      <td>-0.144217</td>\n",
       "      <td>0.413672</td>\n",
       "      <td>-0.120013</td>\n",
       "      <td>0.140214</td>\n",
       "      <td>-0.982843</td>\n",
       "      <td>-0.666608</td>\n",
       "      <td>-1.459000</td>\n",
       "      <td>0.441052</td>\n",
       "      <td>-1.075562</td>\n",
       "    </tr>\n",
       "    <tr>\n",
       "      <th>1</th>\n",
       "      <td>-0.417339</td>\n",
       "      <td>-0.487722</td>\n",
       "      <td>-0.593381</td>\n",
       "      <td>-0.272599</td>\n",
       "      <td>-0.740262</td>\n",
       "      <td>0.194274</td>\n",
       "      <td>0.367166</td>\n",
       "      <td>0.557160</td>\n",
       "      <td>-0.867883</td>\n",
       "      <td>-0.987329</td>\n",
       "      <td>-0.303094</td>\n",
       "      <td>0.441052</td>\n",
       "      <td>-0.492439</td>\n",
       "    </tr>\n",
       "    <tr>\n",
       "      <th>2</th>\n",
       "      <td>-0.417342</td>\n",
       "      <td>-0.487722</td>\n",
       "      <td>-0.593381</td>\n",
       "      <td>-0.272599</td>\n",
       "      <td>-0.740262</td>\n",
       "      <td>1.282714</td>\n",
       "      <td>-0.265812</td>\n",
       "      <td>0.557160</td>\n",
       "      <td>-0.867883</td>\n",
       "      <td>-0.987329</td>\n",
       "      <td>-0.303094</td>\n",
       "      <td>0.396427</td>\n",
       "      <td>-1.208727</td>\n",
       "    </tr>\n",
       "    <tr>\n",
       "      <th>3</th>\n",
       "      <td>-0.416750</td>\n",
       "      <td>-0.487722</td>\n",
       "      <td>-1.306878</td>\n",
       "      <td>-0.272599</td>\n",
       "      <td>-0.835284</td>\n",
       "      <td>1.016303</td>\n",
       "      <td>-0.809889</td>\n",
       "      <td>1.077737</td>\n",
       "      <td>-0.752922</td>\n",
       "      <td>-1.106115</td>\n",
       "      <td>0.113032</td>\n",
       "      <td>0.416163</td>\n",
       "      <td>-1.361517</td>\n",
       "    </tr>\n",
       "    <tr>\n",
       "      <th>4</th>\n",
       "      <td>-0.412482</td>\n",
       "      <td>-0.487722</td>\n",
       "      <td>-1.306878</td>\n",
       "      <td>-0.272599</td>\n",
       "      <td>-0.835284</td>\n",
       "      <td>1.228577</td>\n",
       "      <td>-0.511180</td>\n",
       "      <td>1.077737</td>\n",
       "      <td>-0.752922</td>\n",
       "      <td>-1.106115</td>\n",
       "      <td>0.113032</td>\n",
       "      <td>0.441052</td>\n",
       "      <td>-1.026501</td>\n",
       "    </tr>\n",
       "  </tbody>\n",
       "</table>\n",
       "</div>"
      ],
      "text/plain": [
       "       CRIM        ZN     INDUS      CHAS       NOX        RM       AGE  \\\n",
       "0 -0.419782  0.284830 -1.287909 -0.272599 -0.144217  0.413672 -0.120013   \n",
       "1 -0.417339 -0.487722 -0.593381 -0.272599 -0.740262  0.194274  0.367166   \n",
       "2 -0.417342 -0.487722 -0.593381 -0.272599 -0.740262  1.282714 -0.265812   \n",
       "3 -0.416750 -0.487722 -1.306878 -0.272599 -0.835284  1.016303 -0.809889   \n",
       "4 -0.412482 -0.487722 -1.306878 -0.272599 -0.835284  1.228577 -0.511180   \n",
       "\n",
       "        DIS       RAD       TAX   PTRATIO         B     LSTAT  \n",
       "0  0.140214 -0.982843 -0.666608 -1.459000  0.441052 -1.075562  \n",
       "1  0.557160 -0.867883 -0.987329 -0.303094  0.441052 -0.492439  \n",
       "2  0.557160 -0.867883 -0.987329 -0.303094  0.396427 -1.208727  \n",
       "3  1.077737 -0.752922 -1.106115  0.113032  0.416163 -1.361517  \n",
       "4  1.077737 -0.752922 -1.106115  0.113032  0.441052 -1.026501  "
      ]
     },
     "execution_count": 6,
     "metadata": {},
     "output_type": "execute_result"
    }
   ],
   "source": [
    "#Since features like CRIM and TAX may have very different scales, it’s a good idea to standardize them so that all features have a mean of 0 and a standard deviation of 1\n",
    "scaler = StandardScaler()\n",
    "\n",
    "# Fit and transform the features\n",
    "X_scaled = scaler.fit_transform(X)\n",
    "\n",
    "# Check the scaled values (first few rows)\n",
    "pd.DataFrame(X_scaled, columns=X.columns).head()"
   ]
  },
  {
   "cell_type": "code",
   "execution_count": 7,
   "metadata": {
    "executionInfo": {
     "elapsed": 24,
     "status": "ok",
     "timestamp": 1746181423335,
     "user": {
      "displayName": "Sandesh Tidake",
      "userId": "01337354209053435828"
     },
     "user_tz": -330
    },
    "id": "x89v7aQKa5RR"
   },
   "outputs": [],
   "source": [
    "# Split the data into training and test sets (80% train, 20% test)\n",
    "X_train, X_test, y_train, y_test = train_test_split(X_scaled, y, test_size=0.2, random_state=42)"
   ]
  },
  {
   "cell_type": "code",
   "execution_count": 8,
   "metadata": {
    "executionInfo": {
     "elapsed": 1,
     "status": "ok",
     "timestamp": 1746181423336,
     "user": {
      "displayName": "Sandesh Tidake",
      "userId": "01337354209053435828"
     },
     "user_tz": -330
    },
    "id": "-A-XjcCfeG06"
   },
   "outputs": [],
   "source": [
    "import tensorflow as tf\n",
    "from tensorflow.keras import Sequential\n",
    "from tensorflow.keras.layers import Dense\n",
    "from tensorflow.keras.optimizers import Adam\n",
    "from sklearn.metrics import r2_score\n",
    "#Measures how well the predictions match the actual values. Higher values (closer to 1) indicate a better fit"
   ]
  },
  {
   "cell_type": "code",
   "execution_count": 9,
   "metadata": {
    "colab": {
     "base_uri": "https://localhost:8080/"
    },
    "executionInfo": {
     "elapsed": 32,
     "status": "ok",
     "timestamp": 1746181624370,
     "user": {
      "displayName": "Sandesh Tidake",
      "userId": "01337354209053435828"
     },
     "user_tz": -330
    },
    "id": "kbfECwfqb3XU",
    "outputId": "60c3b091-3e2f-4ee3-c358-b46db0eb3fa3"
   },
   "outputs": [],
   "source": [
    "# Step 1: Build the DNN Model\n",
    "model = Sequential()\n",
    "\n",
    "# Add input layer (the number of input features is the size of X_train)\n",
    "model.add(Dense(64, input_dim=X_train.shape[1], activation='relu'))  # Hidden layer with ReLU activation\n",
    "model.add(Dense(32, activation='relu'))  # Another hidden layer\n",
    "model.add(Dense(1))  # Output layer, no activation (for linear regression)"
   ]
  },
  {
   "cell_type": "code",
   "execution_count": 10,
   "metadata": {
    "executionInfo": {
     "elapsed": 3,
     "status": "ok",
     "timestamp": 1746181625105,
     "user": {
      "displayName": "Sandesh Tidake",
      "userId": "01337354209053435828"
     },
     "user_tz": -330
    },
    "id": "t3OfLcvyeI0X"
   },
   "outputs": [],
   "source": [
    "# Step 2: Compile the model\n",
    "model.compile(optimizer=Adam(learning_rate=0.001), loss='mse')  # Mean Squared Error loss for regression"
   ]
  },
  {
   "cell_type": "code",
   "execution_count": 11,
   "metadata": {
    "colab": {
     "base_uri": "https://localhost:8080/"
    },
    "collapsed": true,
    "executionInfo": {
     "elapsed": 18914,
     "status": "ok",
     "timestamp": 1746181644909,
     "user": {
      "displayName": "Sandesh Tidake",
      "userId": "01337354209053435828"
     },
     "user_tz": -330
    },
    "id": "Y4U2ZscDewuW",
    "outputId": "d1963fc3-67f6-4094-943d-407a373aa6a7"
   },
   "outputs": [
    {
     "name": "stdout",
     "output_type": "stream",
     "text": [
      "Epoch 1/100\n",
      "13/13 [==============================] - 1s 21ms/step - loss: 595.8992 - val_loss: 509.8782\n",
      "Epoch 2/100\n",
      "13/13 [==============================] - 0s 5ms/step - loss: 559.0096 - val_loss: 477.1417\n",
      "Epoch 3/100\n",
      "13/13 [==============================] - 0s 6ms/step - loss: 516.3491 - val_loss: 435.3185\n",
      "Epoch 4/100\n",
      "13/13 [==============================] - 0s 6ms/step - loss: 461.9409 - val_loss: 379.7685\n",
      "Epoch 5/100\n",
      "13/13 [==============================] - 0s 5ms/step - loss: 391.2654 - val_loss: 309.5691\n",
      "Epoch 6/100\n",
      "13/13 [==============================] - 0s 6ms/step - loss: 303.7800 - val_loss: 227.7123\n",
      "Epoch 7/100\n",
      "13/13 [==============================] - 0s 5ms/step - loss: 211.5579 - val_loss: 146.7150\n",
      "Epoch 8/100\n",
      "13/13 [==============================] - 0s 5ms/step - loss: 130.7886 - val_loss: 86.0355\n",
      "Epoch 9/100\n",
      "13/13 [==============================] - 0s 6ms/step - loss: 77.6845 - val_loss: 57.0449\n",
      "Epoch 10/100\n",
      "13/13 [==============================] - 0s 5ms/step - loss: 55.4516 - val_loss: 45.2140\n",
      "Epoch 11/100\n",
      "13/13 [==============================] - 0s 5ms/step - loss: 45.0487 - val_loss: 38.7371\n",
      "Epoch 12/100\n",
      "13/13 [==============================] - 0s 5ms/step - loss: 37.6283 - val_loss: 34.5765\n",
      "Epoch 13/100\n",
      "13/13 [==============================] - 0s 5ms/step - loss: 32.8477 - val_loss: 31.8116\n",
      "Epoch 14/100\n",
      "13/13 [==============================] - 0s 5ms/step - loss: 29.5243 - val_loss: 29.9882\n",
      "Epoch 15/100\n",
      "13/13 [==============================] - 0s 6ms/step - loss: 27.3027 - val_loss: 28.1433\n",
      "Epoch 16/100\n",
      "13/13 [==============================] - 0s 5ms/step - loss: 25.7086 - val_loss: 26.5833\n",
      "Epoch 17/100\n",
      "13/13 [==============================] - 0s 5ms/step - loss: 24.2786 - val_loss: 25.5526\n",
      "Epoch 18/100\n",
      "13/13 [==============================] - 0s 6ms/step - loss: 23.0837 - val_loss: 24.5862\n",
      "Epoch 19/100\n",
      "13/13 [==============================] - 0s 4ms/step - loss: 22.1056 - val_loss: 23.6568\n",
      "Epoch 20/100\n",
      "13/13 [==============================] - 0s 3ms/step - loss: 21.1930 - val_loss: 22.8521\n",
      "Epoch 21/100\n",
      "13/13 [==============================] - 0s 4ms/step - loss: 20.2935 - val_loss: 22.3086\n",
      "Epoch 22/100\n",
      "13/13 [==============================] - 0s 4ms/step - loss: 19.6819 - val_loss: 21.6580\n",
      "Epoch 23/100\n",
      "13/13 [==============================] - 0s 4ms/step - loss: 18.8824 - val_loss: 20.8533\n",
      "Epoch 24/100\n",
      "13/13 [==============================] - 0s 4ms/step - loss: 18.1992 - val_loss: 20.4132\n",
      "Epoch 25/100\n",
      "13/13 [==============================] - 0s 4ms/step - loss: 17.5787 - val_loss: 19.8075\n",
      "Epoch 26/100\n",
      "13/13 [==============================] - 0s 4ms/step - loss: 17.0949 - val_loss: 19.4181\n",
      "Epoch 27/100\n",
      "13/13 [==============================] - 0s 4ms/step - loss: 16.5080 - val_loss: 18.8428\n",
      "Epoch 28/100\n",
      "13/13 [==============================] - 0s 4ms/step - loss: 16.0276 - val_loss: 18.5173\n",
      "Epoch 29/100\n",
      "13/13 [==============================] - 0s 4ms/step - loss: 15.5487 - val_loss: 18.2057\n",
      "Epoch 30/100\n",
      "13/13 [==============================] - 0s 4ms/step - loss: 15.1511 - val_loss: 17.7907\n",
      "Epoch 31/100\n",
      "13/13 [==============================] - 0s 4ms/step - loss: 14.7404 - val_loss: 17.5356\n",
      "Epoch 32/100\n",
      "13/13 [==============================] - 0s 4ms/step - loss: 14.3918 - val_loss: 17.2948\n",
      "Epoch 33/100\n",
      "13/13 [==============================] - 0s 4ms/step - loss: 14.0882 - val_loss: 16.9017\n",
      "Epoch 34/100\n",
      "13/13 [==============================] - 0s 4ms/step - loss: 13.7902 - val_loss: 16.5924\n",
      "Epoch 35/100\n",
      "13/13 [==============================] - 0s 4ms/step - loss: 13.5832 - val_loss: 16.4545\n",
      "Epoch 36/100\n",
      "13/13 [==============================] - 0s 4ms/step - loss: 13.1882 - val_loss: 16.0834\n",
      "Epoch 37/100\n",
      "13/13 [==============================] - 0s 4ms/step - loss: 12.9786 - val_loss: 15.9235\n",
      "Epoch 38/100\n",
      "13/13 [==============================] - 0s 4ms/step - loss: 12.7286 - val_loss: 15.8143\n",
      "Epoch 39/100\n",
      "13/13 [==============================] - 0s 5ms/step - loss: 12.5428 - val_loss: 15.5244\n",
      "Epoch 40/100\n",
      "13/13 [==============================] - 0s 4ms/step - loss: 12.3026 - val_loss: 15.3814\n",
      "Epoch 41/100\n",
      "13/13 [==============================] - 0s 4ms/step - loss: 12.2451 - val_loss: 15.3539\n",
      "Epoch 42/100\n",
      "13/13 [==============================] - 0s 4ms/step - loss: 12.0010 - val_loss: 15.1671\n",
      "Epoch 43/100\n",
      "13/13 [==============================] - 0s 4ms/step - loss: 11.7817 - val_loss: 14.8698\n",
      "Epoch 44/100\n",
      "13/13 [==============================] - 0s 4ms/step - loss: 11.6943 - val_loss: 14.8157\n",
      "Epoch 45/100\n",
      "13/13 [==============================] - 0s 4ms/step - loss: 11.5428 - val_loss: 14.7239\n",
      "Epoch 46/100\n",
      "13/13 [==============================] - 0s 3ms/step - loss: 11.3533 - val_loss: 14.6015\n",
      "Epoch 47/100\n",
      "13/13 [==============================] - 0s 4ms/step - loss: 11.2013 - val_loss: 14.4630\n",
      "Epoch 48/100\n",
      "13/13 [==============================] - 0s 4ms/step - loss: 11.0968 - val_loss: 14.3475\n",
      "Epoch 49/100\n",
      "13/13 [==============================] - 0s 4ms/step - loss: 11.0407 - val_loss: 14.2879\n",
      "Epoch 50/100\n",
      "13/13 [==============================] - 0s 4ms/step - loss: 10.8539 - val_loss: 14.2117\n",
      "Epoch 51/100\n",
      "13/13 [==============================] - 0s 4ms/step - loss: 10.7728 - val_loss: 14.1939\n",
      "Epoch 52/100\n",
      "13/13 [==============================] - 0s 4ms/step - loss: 10.7403 - val_loss: 14.0659\n",
      "Epoch 53/100\n",
      "13/13 [==============================] - 0s 4ms/step - loss: 10.5779 - val_loss: 14.0106\n",
      "Epoch 54/100\n",
      "13/13 [==============================] - 0s 4ms/step - loss: 10.4422 - val_loss: 13.9663\n",
      "Epoch 55/100\n",
      "13/13 [==============================] - 0s 4ms/step - loss: 10.3672 - val_loss: 13.8975\n",
      "Epoch 56/100\n",
      "13/13 [==============================] - 0s 3ms/step - loss: 10.3373 - val_loss: 13.8059\n",
      "Epoch 57/100\n",
      "13/13 [==============================] - 0s 3ms/step - loss: 10.1587 - val_loss: 13.8146\n",
      "Epoch 58/100\n",
      "13/13 [==============================] - 0s 3ms/step - loss: 10.1301 - val_loss: 13.7008\n",
      "Epoch 59/100\n",
      "13/13 [==============================] - 0s 4ms/step - loss: 9.9976 - val_loss: 13.6272\n",
      "Epoch 60/100\n",
      "13/13 [==============================] - 0s 4ms/step - loss: 9.9016 - val_loss: 13.5298\n",
      "Epoch 61/100\n",
      "13/13 [==============================] - 0s 4ms/step - loss: 9.8397 - val_loss: 13.5235\n",
      "Epoch 62/100\n",
      "13/13 [==============================] - 0s 4ms/step - loss: 9.8353 - val_loss: 13.5586\n",
      "Epoch 63/100\n",
      "13/13 [==============================] - 0s 4ms/step - loss: 9.8085 - val_loss: 13.4435\n",
      "Epoch 64/100\n",
      "13/13 [==============================] - 0s 4ms/step - loss: 9.5755 - val_loss: 13.4011\n",
      "Epoch 65/100\n",
      "13/13 [==============================] - 0s 4ms/step - loss: 9.5901 - val_loss: 13.3789\n",
      "Epoch 66/100\n",
      "13/13 [==============================] - 0s 4ms/step - loss: 9.6211 - val_loss: 13.4575\n",
      "Epoch 67/100\n",
      "13/13 [==============================] - 0s 4ms/step - loss: 9.4899 - val_loss: 13.3816\n",
      "Epoch 68/100\n",
      "13/13 [==============================] - 0s 4ms/step - loss: 9.3423 - val_loss: 13.2879\n",
      "Epoch 69/100\n",
      "13/13 [==============================] - 0s 5ms/step - loss: 9.3697 - val_loss: 13.1566\n",
      "Epoch 70/100\n",
      "13/13 [==============================] - 0s 4ms/step - loss: 9.2217 - val_loss: 13.1546\n",
      "Epoch 71/100\n",
      "13/13 [==============================] - 0s 4ms/step - loss: 9.1727 - val_loss: 13.1729\n",
      "Epoch 72/100\n",
      "13/13 [==============================] - 0s 4ms/step - loss: 9.1209 - val_loss: 13.1127\n",
      "Epoch 73/100\n",
      "13/13 [==============================] - 0s 4ms/step - loss: 9.1206 - val_loss: 13.0399\n",
      "Epoch 74/100\n",
      "13/13 [==============================] - 0s 4ms/step - loss: 9.1049 - val_loss: 13.0887\n",
      "Epoch 75/100\n",
      "13/13 [==============================] - 0s 3ms/step - loss: 8.9890 - val_loss: 13.0674\n",
      "Epoch 76/100\n",
      "13/13 [==============================] - 0s 4ms/step - loss: 8.9676 - val_loss: 12.9406\n",
      "Epoch 77/100\n",
      "13/13 [==============================] - 0s 4ms/step - loss: 8.8275 - val_loss: 12.9566\n",
      "Epoch 78/100\n",
      "13/13 [==============================] - 0s 4ms/step - loss: 8.7723 - val_loss: 12.9449\n",
      "Epoch 79/100\n",
      "13/13 [==============================] - 0s 4ms/step - loss: 8.7222 - val_loss: 12.9163\n",
      "Epoch 80/100\n",
      "13/13 [==============================] - 0s 3ms/step - loss: 8.6370 - val_loss: 12.9255\n",
      "Epoch 81/100\n",
      "13/13 [==============================] - 0s 3ms/step - loss: 8.6655 - val_loss: 12.9588\n",
      "Epoch 82/100\n",
      "13/13 [==============================] - 0s 3ms/step - loss: 8.6199 - val_loss: 12.9162\n",
      "Epoch 83/100\n",
      "13/13 [==============================] - 0s 4ms/step - loss: 8.5021 - val_loss: 12.9034\n",
      "Epoch 84/100\n",
      "13/13 [==============================] - 0s 4ms/step - loss: 8.4628 - val_loss: 12.7669\n",
      "Epoch 85/100\n",
      "13/13 [==============================] - 0s 4ms/step - loss: 8.3860 - val_loss: 12.6952\n",
      "Epoch 86/100\n",
      "13/13 [==============================] - 0s 4ms/step - loss: 8.3620 - val_loss: 12.8362\n",
      "Epoch 87/100\n",
      "13/13 [==============================] - 0s 4ms/step - loss: 8.3163 - val_loss: 12.8866\n",
      "Epoch 88/100\n",
      "13/13 [==============================] - 0s 4ms/step - loss: 8.2864 - val_loss: 12.7137\n",
      "Epoch 89/100\n",
      "13/13 [==============================] - 0s 4ms/step - loss: 8.2155 - val_loss: 12.7459\n",
      "Epoch 90/100\n",
      "13/13 [==============================] - 0s 4ms/step - loss: 8.2288 - val_loss: 12.7062\n",
      "Epoch 91/100\n",
      "13/13 [==============================] - 0s 4ms/step - loss: 8.1987 - val_loss: 12.7243\n",
      "Epoch 92/100\n",
      "13/13 [==============================] - 0s 4ms/step - loss: 8.0727 - val_loss: 12.7307\n",
      "Epoch 93/100\n",
      "13/13 [==============================] - 0s 4ms/step - loss: 8.0589 - val_loss: 12.7315\n",
      "Epoch 94/100\n",
      "13/13 [==============================] - 0s 4ms/step - loss: 8.0006 - val_loss: 12.6693\n",
      "Epoch 95/100\n",
      "13/13 [==============================] - 0s 3ms/step - loss: 7.9202 - val_loss: 12.6960\n",
      "Epoch 96/100\n",
      "13/13 [==============================] - 0s 3ms/step - loss: 7.8752 - val_loss: 12.6898\n",
      "Epoch 97/100\n",
      "13/13 [==============================] - 0s 4ms/step - loss: 7.9523 - val_loss: 12.7446\n",
      "Epoch 98/100\n",
      "13/13 [==============================] - 0s 4ms/step - loss: 7.7520 - val_loss: 12.7853\n",
      "Epoch 99/100\n",
      "13/13 [==============================] - 0s 4ms/step - loss: 7.7669 - val_loss: 12.6725\n",
      "Epoch 100/100\n",
      "13/13 [==============================] - 0s 4ms/step - loss: 7.7704 - val_loss: 12.7027\n"
     ]
    }
   ],
   "source": [
    "# Step 3: Train the model\n",
    "history = model.fit(X_train, y_train, epochs=100, batch_size=32, validation_data=(X_test, y_test), verbose=1)"
   ]
  },
  {
   "cell_type": "code",
   "execution_count": 12,
   "metadata": {
    "colab": {
     "base_uri": "https://localhost:8080/"
    },
    "executionInfo": {
     "elapsed": 105,
     "status": "ok",
     "timestamp": 1746181656567,
     "user": {
      "displayName": "Sandesh Tidake",
      "userId": "01337354209053435828"
     },
     "user_tz": -330
    },
    "id": "Vn40gxR8e3Oi",
    "outputId": "cf762dca-f358-4362-80aa-c194139109aa"
   },
   "outputs": [
    {
     "name": "stdout",
     "output_type": "stream",
     "text": [
      "4/4 [==============================] - 0s 3ms/step - loss: 12.7027\n",
      "Test Loss (MSE): 12.702672958374023\n"
     ]
    }
   ],
   "source": [
    "# Step 4: Evaluate the model\n",
    "loss = model.evaluate(X_test, y_test)\n",
    "print(f\"Test Loss (MSE): {loss}\")"
   ]
  },
  {
   "cell_type": "code",
   "execution_count": 13,
   "metadata": {
    "colab": {
     "base_uri": "https://localhost:8080/"
    },
    "executionInfo": {
     "elapsed": 211,
     "status": "ok",
     "timestamp": 1746181662146,
     "user": {
      "displayName": "Sandesh Tidake",
      "userId": "01337354209053435828"
     },
     "user_tz": -330
    },
    "id": "qa3V65hgfZTn",
    "outputId": "c6a8b9d6-dc81-431d-e68f-2f8ecb0d1f51"
   },
   "outputs": [
    {
     "name": "stdout",
     "output_type": "stream",
     "text": [
      "4/4 [==============================] - 0s 2ms/step\n",
      "R² Score on Test Data: 0.82678278060657\n"
     ]
    }
   ],
   "source": [
    "# Step 5: Make Predictions\n",
    "y_pred = model.predict(X_test)\n",
    "\n",
    "# Calculate R² score\n",
    "r2 = r2_score(y_test, y_pred)\n",
    "print(f'R² Score on Test Data: {r2}')"
   ]
  },
  {
   "cell_type": "code",
   "execution_count": 14,
   "metadata": {
    "colab": {
     "base_uri": "https://localhost:8080/",
     "height": 472
    },
    "executionInfo": {
     "elapsed": 244,
     "status": "ok",
     "timestamp": 1746181672762,
     "user": {
      "displayName": "Sandesh Tidake",
      "userId": "01337354209053435828"
     },
     "user_tz": -330
    },
    "id": "tk4fDJYzfF_f",
    "outputId": "0a58ca9b-ec4e-48bc-bc66-2cb7dcf6e399"
   },
   "outputs": [
    {
     "data": {
      "image/png": "[encoded data removed]",
      "text/plain": [
       "<Figure size 640x480 with 1 Axes>"
      ]
     },
     "metadata": {},
     "output_type": "display_data"
    }
   ],
   "source": [
    "# Optional: You can visualize the actual vs predicted values\n",
    "import matplotlib.pyplot as plt\n",
    "plt.scatter(y_test, y_pred)\n",
    "plt.xlabel(\"Actual Prices\")\n",
    "plt.ylabel(\"Predicted Prices\")\n",
    "plt.title(\"Actual vs Predicted House Prices (DNN)\")\n",
    "plt.show()"
   ]
  },
  {
   "cell_type": "code",
   "execution_count": null,
   "metadata": {
    "executionInfo": {
     "elapsed": 1,
     "status": "aborted",
     "timestamp": 1746181424330,
     "user": {
      "displayName": "Sandesh Tidake",
      "userId": "01337354209053435828"
     },
     "user_tz": -330
    },
    "id": "MlNK6IkOfPXq"
   },
   "outputs": [],
   "source": []
  }
 ],
 "metadata": {
  "colab": {
   "authorship_tag": "ABX9TyMRiCETPzU+PtJCDNika6wZ",
   "mount_file_id": "1EqbXu7ari9oEdxyYUfKEVQrWSy0EGR1Y",
   "provenance": []
  },
  "kernelspec": {
   "display_name": "Python 3",
   "name": "python3"
  },
  "language_info": {
   "codemirror_mode": {
    "name": "ipython",
    "version": 3
   },
   "file_extension": ".py",
   "mimetype": "text/x-python",
   "name": "python",
   "nbconvert_exporter": "python",
   "pygments_lexer": "ipython3",
   "version": "3.9.13"
  }
 },
 "nbformat": 4,
 "nbformat_minor": 0
}
